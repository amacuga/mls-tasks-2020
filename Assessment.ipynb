{
 "cells": [
  {
   "cell_type": "markdown",
   "metadata": {},
   "source": [
    "***\n",
    "# Tasks 2020\n",
    "***\n",
    "\n",
    "These are my solutions to the Tasks assessment for the module Machine Learning and Statistics at GMIT. The author is Alexandra Macuga (G00376287@gmit.ie)."
   ]
  },
  {
   "cell_type": "markdown",
   "metadata": {},
   "source": [
    "***\n",
    "### Task 1: Calculate a square root\n",
    "***\n",
    "\n",
    "#### Instructions\n",
    "***\n",
    "\n",
    "Write a Python function called **sqrt2** that calculates and prints to the screen the square root of 2 to 100 decimal places. Your code should not depend on any module from the standard library or otherwise. You should research the task first and include references and a description of your algorithm.\n",
    "\n",
    "By the standard library, we mean the modules and packages that come as standard with Python. Anything built-in that can be used without an import statement can be used."
   ]
  },
  {
   "cell_type": "markdown",
   "metadata": {},
   "source": [
    "#### Research\n",
    "***\n",
    "\n",
    "In mathematics, a square root of a number $x$ is a number $y$ such that \n",
    "\n",
    "$$y2 = x$$\n",
    "\n",
    "in other words, a number $y$ whose square (the result of multiplying the number by itself, or $y$ * $y$) is $x$.[1] \n",
    "\n",
    "The square root of 2, or the one-half power of 2, written in mathematics as $$ \\sqrt{2} $$ or $$ 2^{1/2} $$ is the positive algebraic number that, when multiplied by itself, equals the number 2.[2] Technically, it must be called the principal square root of 2, to distinguish it from the negative number with the same property.\n",
    "\n",
    "Geometrically, the square root of 2 is the length of a diagonal across a square with sides of one unit of length;[2] this follows from the Pythagorean theorem. It was probably the first number known to be irrational.[2] The fraction\n",
    "\n",
    "$$ \\frac{99} {70} (\\approx 1.4142857)$$\n",
    "\n",
    "is sometimes used as a good rational approximation with a reasonably small denominator.\n",
    "\n",
    "![geometrically](img/img2.png)\n",
    "\n",
    "We can calculate the square root of number using Newton's method [3, 4]. To find the square root $z$ of a number $x$, we can iterate using the following equation.\n",
    "\n",
    "$$ z = z - \\frac{z^2 - x} {2z} $$\n",
    "\n",
    "\n",
    "[1] Wikipedia; Square root; https://en.wikipedia.org/wiki/Square_root\n",
    "\n",
    "[2] Wikipedia; Square root of 2; https://en.wikipedia.org/wiki/Square_root_of_2\n",
    "\n",
    "[3] A Tour of Go; Exercise: Loops and Functions; https://tour.golang.org/flowcontrol/8\n",
    "\n",
    "[4] Wikipedia; Newton's method; https://en.wikipedia.org/wiki/Newton%27s_method\n"
   ]
  },
  {
   "cell_type": "markdown",
   "metadata": {},
   "source": [
    "#### Solution\n",
    "***\n",
    "\n",
    "First, we try to calculate the square root of two using Newton's method."
   ]
  },
  {
   "cell_type": "code",
   "execution_count": 1,
   "metadata": {
    "scrolled": true
   },
   "outputs": [],
   "source": [
    "# A function to calculate the square root of a number 2 using Newton's method.\n",
    "\n",
    "def sqrt1():\n",
    "    # Initial guess for the square root z using normal division.\n",
    "    z = 2 / 2\n",
    "    # Loop until we're happy with the accuracy.\n",
    "    while abs(2 - (z * z)) > 0.000001:\n",
    "        # Calculate a better guess for the square root.\n",
    "        z -= (z*z - 2) / (2 * z)\n",
    "    # Return the (approximate) square root of 2 to 100 decimal places.\n",
    "    z = (\"%.100f\" % z)\n",
    "    return z"
   ]
  },
  {
   "cell_type": "code",
   "execution_count": 2,
   "metadata": {
    "scrolled": true
   },
   "outputs": [
    {
     "data": {
      "text/plain": [
       "'1.4142135623746898698271934335934929549694061279296875000000000000000000000000000000000000000000000000'"
      ]
     },
     "execution_count": 2,
     "metadata": {},
     "output_type": "execute_result"
    }
   ],
   "source": [
    "# Test the function sqrt1.\n",
    "sqrt1()"
   ]
  },
  {
   "cell_type": "markdown",
   "metadata": {},
   "source": [
    "We can see that the result is not very precise. As per Python documentation, unfortunately, most decimal fractions cannot be represented exactly as binary fractions. A consequence is that, in general, the decimal floating-point numbers you enter are only approximated by the binary floating-point numbers actually stored in the machine.[5] We need to modify our **sqrt1** function if we want to see more precise result by using integers in our calculation."
   ]
  },
  {
   "cell_type": "code",
   "execution_count": 3,
   "metadata": {
    "scrolled": true
   },
   "outputs": [],
   "source": [
    "# A function to calculate the square root of a number 2 using modified method.\n",
    "# Adapted from: https://stackoverflow.com/q/64295245\n",
    "\n",
    "def sqrt2():\n",
    "    # Multiple 2 by 10*200\n",
    "    x = 2 * 10 **200\n",
    "    # Initial guess for the square root z using floor division.\n",
    "    z = x // 2\n",
    "    # Loop until we're happy with the accuracy\n",
    "    while (x - (z ** 2)) < 0.000001:\n",
    "        # Calculate a better guess for the square root.\n",
    "        z = (z + x // z) // 2\n",
    "    # Return the (approximate) square root of 2 to 100 decimal places as a string.\n",
    "    z = (str(z))\n",
    "    # Return the first character followed by fullstop and the rest of the characters\n",
    "    return (z[0] + \".\" + z[1:])"
   ]
  },
  {
   "cell_type": "code",
   "execution_count": 4,
   "metadata": {
    "scrolled": true
   },
   "outputs": [
    {
     "data": {
      "text/plain": [
       "'1.4142135623730950488016887242096980785696718753769480731766797379907324784621070388503875343276415727'"
      ]
     },
     "execution_count": 4,
     "metadata": {},
     "output_type": "execute_result"
    }
   ],
   "source": [
    "# Test the function sqrt2.\n",
    "sqrt2()"
   ]
  },
  {
   "cell_type": "markdown",
   "metadata": {},
   "source": [
    "[5] The Python Tutorial; Floating Point Arithmetic: Issues and Limitations; https://docs.python.org/3/tutorial/floatingpoint.html"
   ]
  },
  {
   "cell_type": "markdown",
   "metadata": {},
   "source": [
    "#### Compare the functions\n",
    "***\n",
    "\n",
    "Here we compare the functions to see which will give us more precise answer. We also want to check, if any of the functions will return the same number."
   ]
  },
  {
   "cell_type": "code",
   "execution_count": 5,
   "metadata": {
    "scrolled": true
   },
   "outputs": [
    {
     "name": "stdout",
     "output_type": "stream",
     "text": [
      "Sqrt1:  1.4142135623746898698271934335934929549694061279296875000000000000000000000000000000000000000000000000 \n",
      " Sqrt2:  1.4142135623730950488016887242096980785696718753769480731766797379907324784621070388503875343276415727 \n",
      " Math:  1.4142135623730951454746218587388284504413604736328125000000000000000000000000000000000000000000000000 \n",
      " Decimal:  1.4142135623730950488016887242096980785696718753769480731766797379907324784621070388503875343276415727\n"
     ]
    }
   ],
   "source": [
    "# Return square root of 2 to 100 decimal places using my functions sqrt1 sqrt2 and imported modules\n",
    "# Adapted from: https://stackoverflow.com/a/4733196\n",
    "\n",
    "import math\n",
    "from decimal import *\n",
    "\n",
    "a =  sqrt1()\n",
    "\n",
    "b = sqrt2()\n",
    "\n",
    "c = math.sqrt(2)\n",
    "# Format variable c to 100 decimal places\n",
    "c = format(c, '.100f')\n",
    "\n",
    "# Set the precision to 101 \n",
    "getcontext().prec = 101\n",
    "d = Decimal(2).sqrt()\n",
    "\n",
    "print(\"Sqrt1: \", a,  \"\\n\", \"Sqrt2: \", b,  \"\\n\", \"Math: \", c, \"\\n\", \"Decimal: \", d)"
   ]
  },
  {
   "cell_type": "code",
   "execution_count": 6,
   "metadata": {
    "scrolled": true
   },
   "outputs": [
    {
     "name": "stdout",
     "output_type": "stream",
     "text": [
      "No matching results\n"
     ]
    }
   ],
   "source": [
    "# Check if any of the results are the same number\n",
    "if a == b:\n",
    "    print (\"sqrt1 = sqrt2\")\n",
    "elif a == c: \n",
    "    print(\"sqrt1 = math\") \n",
    "elif a == d:\n",
    "    print(\"sqrt1 = decimal\")\n",
    "elif b == c:\n",
    "    print(\"sqrt2 = math\")\n",
    "elif b == d:\n",
    "    print (\"sqrt2 = decimal\")\n",
    "elif c == d:\n",
    "    print(\"math = decimal\")\n",
    "else:\n",
    "    print(\"No matching results\")"
   ]
  },
  {
   "cell_type": "markdown",
   "metadata": {},
   "source": [
    "Even though it looks like the square root of 2 is the same number when using sqrt2 function and decimal module, we are told that there is no matching results. We need to check if all our variables are the same type, because that might cause this unexpected result."
   ]
  },
  {
   "cell_type": "code",
   "execution_count": 7,
   "metadata": {
    "scrolled": true
   },
   "outputs": [
    {
     "name": "stdout",
     "output_type": "stream",
     "text": [
      "<class 'str'>\n",
      "<class 'str'>\n",
      "<class 'str'>\n",
      "<class 'decimal.Decimal'>\n"
     ]
    }
   ],
   "source": [
    "# Print the types of our variables \n",
    "print (type(a))\n",
    "print (type(b))\n",
    "print (type(c))\n",
    "print (type(d))"
   ]
  },
  {
   "cell_type": "markdown",
   "metadata": {},
   "source": [
    "Our first three variables are strings, but the last one is decimal. We change the type of variable d to string."
   ]
  },
  {
   "cell_type": "code",
   "execution_count": 8,
   "metadata": {},
   "outputs": [],
   "source": [
    "# Change the type of variable d from decimal to string.\n",
    "d = str(d)"
   ]
  },
  {
   "cell_type": "code",
   "execution_count": 9,
   "metadata": {},
   "outputs": [
    {
     "name": "stdout",
     "output_type": "stream",
     "text": [
      "sqrt2 = decimal\n"
     ]
    }
   ],
   "source": [
    "# Check if any of the results are the same number\n",
    "if a == b or a == c or a == d or b == c or b == d or c == d:\n",
    "    if a == b:\n",
    "        print (\"sqrt1 = sqrt2\")\n",
    "    elif a == c: \n",
    "        print(\"sqrt1 = math\") \n",
    "    elif a == d:\n",
    "        print(\"sqrt1 = decimal\")\n",
    "    elif b == c:\n",
    "        print(\"sqrt2 = math\")\n",
    "    elif b == d:\n",
    "        print (\"sqrt2 = decimal\")\n",
    "    elif c == d:\n",
    "        print(\"math = decimal\")\n",
    "else:\n",
    "        print(\"No matching results\")"
   ]
  },
  {
   "cell_type": "markdown",
   "metadata": {},
   "source": [
    "Our function is working properly, the sqrt2 function returns the same square root of 2 as the decimal module. "
   ]
  },
  {
   "cell_type": "markdown",
   "metadata": {},
   "source": [
    "***\n",
    "### Task 2: The Chi-squared test\n",
    "***\n",
    "\n",
    "#### Instructions\n",
    "***\n",
    "\n",
    "The Chi-squared test for independence is a statistical hypothesis test like a t-test. It is used to analyse whether two categorical variables are independent. The Wikipedia article gives the table below as an example [6], stating the Chi-squared value based on it is approximately *24.6*. Use **scipy.stats** to verify this value and calculate the associated *p* value. You should include a short note with references justifying your analysis in a markdown cell.\n",
    "\n",
    "![Table](img/img1.png)\n",
    "\n",
    "[6] Wikipedia contributors, “Chi-squared test — Wikipedia, the free encyclopedia,” 2020, [Online; accessed 1-November-2020]. [Online]. Available: https://en.wikipedia.org/w/index.php?title=Chi-squared_test&oldid=983024096"
   ]
  },
  {
   "cell_type": "markdown",
   "metadata": {},
   "source": [
    "#### Research\n",
    "***\n",
    "\n",
    "**Pearson’s Chi-Squared Test**\n",
    "\n",
    "$$ \\chi ^{2} $$ \n",
    "\n",
    "It is the most widely used of many chi-squared tests. Its properties were first investigated by Karl Pearson in 1900. Pearson's chi-squared test is used to assess three types of comparison: goodness of fit, homogeneity, and independence.\n",
    "\n",
    "*A test of independence* assesses whether observations consisting of measures on two variables, expressed in a contingency table, are independent of each other (e.g. polling responses from people of different nationalities to see if one's nationality is related to the response).[7]\n",
    "\n",
    "A chi-squared test for independence compares two variables in a contingency table to see if they are related. In a more general sense, it tests to see whether distributions of categorical variables differ from each another.\n",
    "\n",
    "* A very small chi square test statistic means that your observed data fits your expected data extremely well. In other words, there is a relationship.\n",
    "\n",
    "* A very large chi square test statistic means that the data does not fit very well. In other words, there isn’t a relationship.[8]\n",
    "\n",
    "The computational procedure includes the following steps:\n",
    "\n",
    "1. Calculate the chi-squared test statistic, χ², which resembles a normalized sum of squared deviations between observed and theoretical frequencies (see below).\n",
    "2. Determine the degrees of freedom, df, of that statistic.\n",
    "* For test of independence, df = (Rows − 1)×(Cols − 1), where in this case, Rows corresponds to number of categories in one variable, and Cols corresponds to number of categories in the second variable.\n",
    "3. Select a desired level of confidence (significance level, p-value or the corresponding alpha level) for the result of the test.\n",
    "4. Compare $$ \\chi ^{2} $$ to the critical value from the chi-squared distribution with df degrees of freedom and the selected confidence level (one-sided since the test is only one direction, i.e. is the test value greater than the critical value?), which in many cases gives a good approximation of the distribution of $$ \\chi ^{2} $$.\n",
    "5. Sustain or reject the null hypothesis that the observed frequency distribution is the same as the theoretical distribution based on whether the test statistic exceeds the critical value of $$ \\chi ^{2} $$. If the test statistic exceeds the critical value of $$ \\chi ^{2} $$, the null hypothesis ($$ H_{0} $$ = there is no difference between the distributions) can be rejected, and the alternative hypothesis ($$ H_{1} $$ = there is a difference between the distributions) can be accepted, both with the selected level of confidence. If the test statistic falls below the threshold $$ \\chi ^{2} $$ value, then no clear conclusion can be reached, and the null hypothesis is sustained (we failed to reject the null hypothesis), but not necessarily accepted.[7]\n",
    "\n",
    "\n",
    "\n",
    "**Example chi-squared test for categorical data**\n",
    "\n",
    "Suppose there is a city of 1,000,000 residents with four neighborhoods: A, B, C, and D. A random sample of 650 residents of the city is taken and their occupation is recorded as \"white collar\", \"blue collar\", or \"no collar\". The null hypothesis is that each person's neighborhood of residence is independent of the person's occupational classification.[6]\n",
    "\n",
    "[7] Wikipedia; Pearson's chi-squared test; https://en.wikipedia.org/wiki/Pearson%27s_chi-squared_test\n",
    "\n",
    "[8] Statistics How To; Chi-Square Statistic: How to Calculate It / Distribution; https://www.statisticshowto.com/probability-and-statistics/chi-square/\n",
    "\n",
    "[9] Jason Brownlee; A Gentle Introduction to the Chi-Squared Test for Machine Learning; https://machinelearningmastery.com/chi-squared-test-for-machine-learning/"
   ]
  },
  {
   "cell_type": "markdown",
   "metadata": {},
   "source": [
    "#### Solution\n",
    "***"
   ]
  },
  {
   "cell_type": "markdown",
   "metadata": {},
   "source": [
    "***\n",
    "### Task 3: The standard deviation\n",
    "***\n",
    "\n",
    "#### Instructions\n",
    "***\n",
    "\n",
    "The standard deviation of an array of numbers $x$ is calculated using **numpy** as \n",
    "\n",
    "$$ np.sqrt(np.sum((x - np.mean(x))**2)/len(x))$$ \n",
    "\n",
    "However, Microsoft Excel has two different versions of the standard deviation calculation, **STDEV.P** and **STDEV.S**. The **STDEV.P** function performs the above calculation but in the **STDEV.S** calculation the division is by $len(x)-1$ rather than $len(x)$. Research these Excel functions, writing a note in a Markdown cell about the difference between them. Then use **numpy** to perform a simulation demonstrating that the **STDEV.S** calculation is a better estimate for the standard deviation of a population when performed on a sample. Note that part of this task is to figure out the terminology in the previous sentence."
   ]
  },
  {
   "cell_type": "markdown",
   "metadata": {},
   "source": [
    "#### Research\n",
    "***"
   ]
  },
  {
   "cell_type": "markdown",
   "metadata": {},
   "source": [
    "#### Solution\n",
    "***"
   ]
  },
  {
   "cell_type": "markdown",
   "metadata": {},
   "source": [
    "***\n",
    "### Task 4: Make predictions\n",
    "***\n",
    "\n",
    "#### Instructions\n",
    "***\n",
    "\n",
    "Use **scikit-learn** to apply *k*-means clustering to Fisher’s famous Iris data set. You will easily obtain a copy of the data set online. Explain in a Markdown cell how your code works and how accurate it might be, and then explain how your model could be used to make predictions of species of iris."
   ]
  },
  {
   "cell_type": "markdown",
   "metadata": {},
   "source": [
    "#### Research\n",
    "***"
   ]
  },
  {
   "cell_type": "markdown",
   "metadata": {},
   "source": [
    "#### Solution\n",
    "***"
   ]
  },
  {
   "cell_type": "code",
   "execution_count": null,
   "metadata": {
    "scrolled": true
   },
   "outputs": [],
   "source": []
  }
 ],
 "metadata": {
  "kernelspec": {
   "display_name": "Python 3",
   "language": "python",
   "name": "python3"
  },
  "language_info": {
   "codemirror_mode": {
    "name": "ipython",
    "version": 3
   },
   "file_extension": ".py",
   "mimetype": "text/x-python",
   "name": "python",
   "nbconvert_exporter": "python",
   "pygments_lexer": "ipython3",
   "version": "3.7.4"
  }
 },
 "nbformat": 4,
 "nbformat_minor": 2
}
