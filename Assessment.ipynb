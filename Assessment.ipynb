{
 "cells": [
  {
   "cell_type": "markdown",
   "metadata": {},
   "source": [
    "***\n",
    "# Tasks 2020\n",
    "***\n",
    "\n",
    "These are my solutions to the Tasks assessment for the module Machine Learning and Statistics at GMIT. The author is Alexandra Macuga (G00376287@gmit.ie)."
   ]
  },
  {
   "cell_type": "markdown",
   "metadata": {},
   "source": [
    "***\n",
    "### Task 1: Calculate a square root\n",
    "***\n",
    "\n",
    "#### INSTRUCTIONS\n",
    "***\n",
    "\n",
    "Write a Python function called **sqrt2** that calculates and prints to the screen the square root of 2 to 100 decimal places. Your code should not depend on any module from the standard library or otherwise. You should research the task first and include references and a description of your algorithm.\n",
    "\n",
    "By the standard library, we mean the modules and packages that come as standard with Python. Anything built-in that can be used without an import statement can be used."
   ]
  },
  {
   "cell_type": "markdown",
   "metadata": {},
   "source": [
    "***\n",
    "#### RESEARCH\n",
    "***\n",
    "\n",
    "In mathematics, a square root of a number $x$ is a number $y$ such that $y2 = x$, in other words, a number $y$ whose square (the result of multiplying the number by itself, or $y$ * $y$) is $x$.[1] \n",
    "\n",
    "The square root of 2, or the one-half power of 2, written in mathematics as $ \\sqrt{2} $ or $ 2^{1/2} $ is the positive algebraic number that, when multiplied by itself, equals the number 2.[2] Technically, it must be called the principal square root of 2, to distinguish it from the negative number with the same property.\n",
    "\n",
    "![geometrically](img/img2.png)\n",
    "\n",
    "Geometrically, the square root of 2 is the length of a diagonal across a square with sides of one unit of length;[2] this follows from the Pythagorean theorem. It was probably the first number known to be irrational.[2] The fraction $ \\frac{99} {70} (\\approx 1.4142857)$ is sometimes used as a good rational approximation with a reasonably small denominator.\n",
    "\n",
    "We can calculate the square root of number using Newton's method [3, 4]. To find the square root $z$ of a number $x$, we can iterate using the following equation.\n",
    "\n",
    "$$ z = z - \\frac{z^2 - x} {2z} $$\n",
    "\n",
    "\n",
    "[1] Wikipedia contributors; \"Square root\"; [Online]. Available from: https://en.wikipedia.org/wiki/Square_root\n",
    "\n",
    "[2] Wikipedia contributors; \"Square root of 2\"; [Online]. Available from: https://en.wikipedia.org/wiki/Square_root_of_2\n",
    "\n",
    "[3] A Tour of Go; \"Exercise: Loops and Functions\"; [Online]. Available from: https://tour.golang.org/flowcontrol/8\n",
    "\n",
    "[4] Wikipedia contributors; \"Newton's method\"; [Online]. Available from: https://en.wikipedia.org/wiki/Newton%27s_method\n"
   ]
  },
  {
   "cell_type": "markdown",
   "metadata": {},
   "source": [
    "***\n",
    "#### SOLUTION\n",
    "***\n",
    "\n",
    "First, we try to calculate the square root of two using Newton's method."
   ]
  },
  {
   "cell_type": "code",
   "execution_count": 1,
   "metadata": {
    "scrolled": true
   },
   "outputs": [],
   "source": [
    "# A function to calculate the square root of a number 2 using Newton's method.\n",
    "\n",
    "def sqrt1():\n",
    "    # Initial guess for the square root z using normal division.\n",
    "    z = 2 / 2\n",
    "    # Loop until we're happy with the accuracy.\n",
    "    while abs(2 - (z * z)) > 0.000001:\n",
    "        # Calculate a better guess for the square root.\n",
    "        z -= (z*z - 2) / (2 * z)\n",
    "    # Return the (approximate) square root of 2 to 100 decimal places.\n",
    "    z = (\"%.100f\" % z)\n",
    "    return z"
   ]
  },
  {
   "cell_type": "code",
   "execution_count": 2,
   "metadata": {
    "scrolled": true
   },
   "outputs": [
    {
     "data": {
      "text/plain": [
       "'1.4142135623746898698271934335934929549694061279296875000000000000000000000000000000000000000000000000'"
      ]
     },
     "execution_count": 2,
     "metadata": {},
     "output_type": "execute_result"
    }
   ],
   "source": [
    "# Test the function sqrt1.\n",
    "sqrt1()"
   ]
  },
  {
   "cell_type": "markdown",
   "metadata": {},
   "source": [
    "We can see that the result is not very precise. As per Python documentation, unfortunately, most decimal fractions cannot be represented exactly as binary fractions. A consequence is that, in general, the decimal floating-point numbers you enter are only approximated by the binary floating-point numbers actually stored in the machine.[5] We need to modify our **sqrt1** function if we want to see more precise result by using integers in our calculation."
   ]
  },
  {
   "cell_type": "code",
   "execution_count": 3,
   "metadata": {
    "scrolled": true
   },
   "outputs": [],
   "source": [
    "# A function to calculate the square root of a number 2 using modified method.\n",
    "# Adapted from: https://stackoverflow.com/q/64295245\n",
    "\n",
    "def sqrt2():\n",
    "    # Multiple 2 by 10*200\n",
    "    x = 2 * 10 **200\n",
    "    # Initial guess for the square root z using floor division.\n",
    "    z = x // 2\n",
    "    # Loop until we're happy with the accuracy\n",
    "    while (x - (z ** 2)) < 0.000001:\n",
    "        # Calculate a better guess for the square root.\n",
    "        z = (z + x // z) // 2\n",
    "    # Return the (approximate) square root of 2 to 100 decimal places as a string.\n",
    "    z = (str(z))\n",
    "    # Return the first character followed by fullstop and the rest of the characters\n",
    "    z = (z[0] + \".\" + z[1:])\n",
    "    return z"
   ]
  },
  {
   "cell_type": "code",
   "execution_count": 4,
   "metadata": {
    "scrolled": true
   },
   "outputs": [
    {
     "data": {
      "text/plain": [
       "'1.4142135623730950488016887242096980785696718753769480731766797379907324784621070388503875343276415727'"
      ]
     },
     "execution_count": 4,
     "metadata": {},
     "output_type": "execute_result"
    }
   ],
   "source": [
    "# Test the function sqrt2.\n",
    "sqrt2()"
   ]
  },
  {
   "cell_type": "markdown",
   "metadata": {},
   "source": [
    "[5] The Python Tutorial; \"Floating Point Arithmetic: Issues and Limitations\"; [Online]. Available from: https://docs.python.org/3/tutorial/floatingpoint.html"
   ]
  },
  {
   "cell_type": "markdown",
   "metadata": {},
   "source": [
    "**Compare the functions**\n",
    "\n",
    "Here we compare the functions to see which will give us more precise answer. We also want to check, if any of the functions will return the same number."
   ]
  },
  {
   "cell_type": "code",
   "execution_count": 5,
   "metadata": {
    "scrolled": true
   },
   "outputs": [
    {
     "name": "stdout",
     "output_type": "stream",
     "text": [
      "Sqrt1:  1.4142135623746898698271934335934929549694061279296875000000000000000000000000000000000000000000000000 \n",
      " Sqrt2:  1.4142135623730950488016887242096980785696718753769480731766797379907324784621070388503875343276415727 \n",
      " Math:  1.4142135623730951454746218587388284504413604736328125000000000000000000000000000000000000000000000000 \n",
      " Decimal:  1.4142135623730950488016887242096980785696718753769480731766797379907324784621070388503875343276415727\n"
     ]
    }
   ],
   "source": [
    "# Return square root of 2 to 100 decimal places using my functions sqrt1 sqrt2 and imported modules\n",
    "# Adapted from: https://stackoverflow.com/a/4733196\n",
    "\n",
    "import math\n",
    "from decimal import *\n",
    "\n",
    "a =  sqrt1()\n",
    "\n",
    "b = sqrt2()\n",
    "\n",
    "c = math.sqrt(2)\n",
    "# Format variable c to 100 decimal places\n",
    "c = format(c, '.100f')\n",
    "\n",
    "# Set the precision to 101 \n",
    "getcontext().prec = 101\n",
    "d = Decimal(2).sqrt()\n",
    "\n",
    "print(\"Sqrt1: \", a, \"\\n\", \"Sqrt2: \", b,  \"\\n\", \"Math: \", c, \"\\n\", \"Decimal: \", d)"
   ]
  },
  {
   "cell_type": "code",
   "execution_count": 6,
   "metadata": {
    "scrolled": true
   },
   "outputs": [
    {
     "name": "stdout",
     "output_type": "stream",
     "text": [
      "No matching results\n"
     ]
    }
   ],
   "source": [
    "# Check if any of the results are the same number\n",
    "if a == b:\n",
    "    print (\"sqrt1 = sqrt2\")\n",
    "elif a == c: \n",
    "    print(\"sqrt1 = math\") \n",
    "elif a == d:\n",
    "    print(\"sqrt1 = decimal\")\n",
    "elif b == c:\n",
    "    print(\"sqrt2 = math\")\n",
    "elif b == d:\n",
    "    print (\"sqrt2 = decimal\")\n",
    "elif c == d:\n",
    "    print(\"math = decimal\")\n",
    "else:\n",
    "    print(\"No matching results\")"
   ]
  },
  {
   "cell_type": "markdown",
   "metadata": {},
   "source": [
    "Even though it looks like the square root of 2 is the same number when using sqrt2 function and decimal module, we are told that there are no matching results. We need to check if all our variables are the same type, because that might cause this unexpected result."
   ]
  },
  {
   "cell_type": "code",
   "execution_count": 7,
   "metadata": {
    "scrolled": true
   },
   "outputs": [
    {
     "name": "stdout",
     "output_type": "stream",
     "text": [
      "<class 'str'>\n",
      "<class 'str'>\n",
      "<class 'str'>\n",
      "<class 'decimal.Decimal'>\n"
     ]
    }
   ],
   "source": [
    "# Print the types of our variables \n",
    "print (type(a))\n",
    "print (type(b))\n",
    "print (type(c))\n",
    "print (type(d))"
   ]
  },
  {
   "cell_type": "markdown",
   "metadata": {},
   "source": [
    "Our first three variables are strings, but the last one is decimal. We change the type of variable d to string."
   ]
  },
  {
   "cell_type": "code",
   "execution_count": 8,
   "metadata": {},
   "outputs": [],
   "source": [
    "# Change the type of variable d from decimal to string.\n",
    "d = str(d)"
   ]
  },
  {
   "cell_type": "code",
   "execution_count": 9,
   "metadata": {},
   "outputs": [
    {
     "name": "stdout",
     "output_type": "stream",
     "text": [
      "sqrt2 = decimal\n"
     ]
    }
   ],
   "source": [
    "# Check if any of the results are the same number\n",
    "if a == b:\n",
    "    print (\"sqrt1 = sqrt2\")\n",
    "elif a == c: \n",
    "    print(\"sqrt1 = math\") \n",
    "elif a == d:\n",
    "    print(\"sqrt1 = decimal\")\n",
    "elif b == c:\n",
    "    print(\"sqrt2 = math\")\n",
    "elif b == d:\n",
    "    print (\"sqrt2 = decimal\")\n",
    "elif c == d:\n",
    "    print(\"math = decimal\")\n",
    "else:\n",
    "    print(\"No matching results\")"
   ]
  },
  {
   "cell_type": "markdown",
   "metadata": {},
   "source": [
    "Our function is working properly, the sqrt2 function returns the same square root of 2 as the decimal module. "
   ]
  },
  {
   "cell_type": "markdown",
   "metadata": {},
   "source": [
    "***\n",
    "### Task 2: The Chi-squared test\n",
    "***\n",
    "\n",
    "#### INSTRUCTIONS\n",
    "***\n",
    "\n",
    "The Chi-squared test for independence is a statistical hypothesis test like a t-test. It is used to analyse whether two categorical variables are independent. The Wikipedia article gives the table below as an example [6], stating the Chi-squared value based on it is approximately *24.6*. Use **scipy.stats** to verify this value and calculate the associated *p* value. You should include a short note with references justifying your analysis in a markdown cell.\n",
    "\n",
    "![Table](img/img1.png)\n",
    "\n",
    "[6] Wikipedia contributors, “Chi-squared test — Wikipedia, the free encyclopedia,” [Online]. Available from: https://en.wikipedia.org/w/index.php?title=Chi-squared_test&oldid=983024096"
   ]
  },
  {
   "cell_type": "markdown",
   "metadata": {},
   "source": [
    "***\n",
    "#### RESEARCH\n",
    "***\n",
    "\n",
    "**Pearson’s Chi-Squared Test**\n",
    "\n",
    "$ \\chi ^{2} $\n",
    "\n",
    "It is the most widely used of many chi-squared tests. Its properties were first investigated by Karl Pearson in 1900. Pearson's chi-squared test is used to assess three types of comparison: goodness of fit, homogeneity, and independence.[7]\n",
    "\n",
    "A chi-squared test for independence compares two variables in a contingency table to see if they are related. In a more general sense, it tests to see whether distributions of categorical variables differ from each another.\n",
    "\n",
    "* A very small chi square test statistic means that your observed data fits your expected data extremely well. In other words, there is a relationship.\n",
    "\n",
    "* A very large chi square test statistic means that the data does not fit very well. In other words, there isn’t a relationship.[8]\n",
    "\n",
    "The computational procedure includes the following steps:\n",
    "\n",
    "1. Calculate the chi-squared test statistic, $ \\chi ^{2} $ , which resembles a normalized sum of squared deviations between observed and theoretical frequencies (see below).\n",
    "2. Determine the degrees of freedom, $ df $, of that statistic.\n",
    "* For test of independence,  $ df = (Rows − 1)×(Cols − 1) $, where in this case, $ Rows $ corresponds to number of categories in one variable, and $ Cols $ corresponds to number of categories in the second variable.\n",
    "3. Select a desired level of confidence (significance level, p-value or the corresponding alpha level) for the result of the test.\n",
    "4. Compare $ \\chi ^{2} $ to the critical value from the chi-squared distribution with $ df $ degrees of freedom and the selected confidence level (one-sided since the test is only one direction, i.e. is the test value greater than the critical value?), which in many cases gives a good approximation of the distribution of $ \\chi ^{2} $.\n",
    "5. Sustain or reject the null hypothesis that the observed frequency distribution is the same as the theoretical distribution based on whether the test statistic exceeds the critical value of $ \\chi ^{2} $. If the test statistic exceeds the critical value of $ \\chi ^{2} $, the null hypothesis ($ H_{0} $ = there is no difference between the distributions) can be rejected, and the alternative hypothesis ($ H_{1} $ = there is a difference between the distributions) can be accepted, both with the selected level of confidence. If the test statistic falls below the threshold $ \\chi ^{2} $ value, then no clear conclusion can be reached, and the null hypothesis is sustained (we failed to reject the null hypothesis), but not necessarily accepted.[7]\n",
    "\n",
    "The Pearson’s chi-squared test for independence can be calculated in Python using the *chi2_contingency()* SciPy function.[9]\n",
    "\n",
    "***scipy.stats.chi2_contingency***\n",
    "\n",
    "This function computes the chi-square statistic and p-value for the hypothesis test of independence of the observed frequencies in the contingency table observed. The expected frequencies are computed based on the marginal sums under the assumption of independence. The number of degrees of freedom is (expressed using numpy functions and attributes) :\n",
    "\n",
    "$$ dof = observed.size - sum(observed.shape) + observed.ndim - 1 $$\n",
    "\n",
    "**Parameters**:\n",
    "* *observed*: array_like\n",
    "\n",
    "The contingency table. The table contains the observed frequencies (i.e. number of occurrences) in each category. In the two-dimensional case, the table is often described as an “R x C table”.\n",
    "\n",
    "* *correction*: bool, optional\n",
    "\n",
    "If True, and the degrees of freedom is 1, apply Yates’ correction for continuity. The effect of the correction is to adjust each observed value by 0.5 towards the corresponding expected value.\n",
    "\n",
    "* *lambda*: _float or str, optional.\n",
    "\n",
    "By default, the statistic computed in this test is Pearson’s chi-squared statistic [2]. lambda_ allows a statistic from the Cressie-Read power divergence family [3] to be used instead. See power_divergence for details.\n",
    "\n",
    "**Returns**:\n",
    "* *chi2*: float\n",
    "\n",
    "The test statistic.\n",
    "\n",
    "* *p*: float\n",
    "\n",
    "The p-value of the test\n",
    "\n",
    "* *dof*: int\n",
    "\n",
    "Degrees of freedom\n",
    "\n",
    "* *expected*: ndarray, same shape as observed\n",
    "\n",
    "The expected frequencies, based on the marginal sums of the table.[10]\n",
    "\n",
    "[7] Wikipedia contributors; \"Pearson's chi-squared test\"; [Online]. Available from: https://en.wikipedia.org/wiki/Pearson%27s_chi-squared_test\n",
    "\n",
    "[8] Statistics How To; \"Chi-Square Statistic: How to Calculate It / Distribution\"; [Online]. Available from: https://www.statisticshowto.com/probability-and-statistics/chi-square/\n",
    "\n",
    "[9] Jason Brownlee; \"A Gentle Introduction to the Chi-Squared Test for Machine Learning\"; [Online]. Available from: https://machinelearningmastery.com/chi-squared-test-for-machine-learning/\n",
    "\n",
    "[10] The SciPy community; \"scipy.stats.chi2_contingency\"; [Online]. Available from: https://docs.scipy.org/doc/scipy/reference/generated/scipy.stats.chi2_contingency.html"
   ]
  },
  {
   "cell_type": "markdown",
   "metadata": {},
   "source": [
    "***\n",
    "#### SOLUTION\n",
    "***\n",
    "\n",
    "**Example chi-squared test for categorical data**\n",
    "\n",
    "Suppose there is a city of 1,000,000 residents with four neighborhoods: A, B, C, and D. A random sample of 650 residents of the city is taken and their occupation is recorded as \"white collar\", \"blue collar\", or \"no collar\". The null hypothesis is that each person's neighborhood of residence is independent of the person's occupational classification.[6]\n"
   ]
  },
  {
   "cell_type": "markdown",
   "metadata": {},
   "source": [
    "<!-- Adapted from https://stackoverflow.com/a/48657695 -->\n",
    "<!-- As per the reference, the alignment syntax unfortunately does not work currently, but I leave it here in case the bug is fixed-->\n",
    "\n",
    "|-| A | B | C | D | Total |\n",
    "|:-|:-|:-:|:-:|:-:|-:|\n",
    "| White collar | 90 | 60 | 104 | 95 | 349 |\n",
    "| Blue collar | 30 | 50 | 51 | 20 | 151 |\n",
    "| No collar | 30 | 40 | 45 | 35 | 150 |\n",
    "|-|-|-|-|-|-|\n",
    "| Total | 150 | 150 | 200 | 150 | 650 |"
   ]
  },
  {
   "cell_type": "code",
   "execution_count": 10,
   "metadata": {
    "scrolled": true
   },
   "outputs": [
    {
     "name": "stdout",
     "output_type": "stream",
     "text": [
      "[[90, 60, 104, 95], [30, 50, 51, 20], [30, 40, 45, 35]]\n",
      "dof=6\n",
      "[[ 80.53846154  80.53846154 107.38461538  80.53846154]\n",
      " [ 34.84615385  34.84615385  46.46153846  34.84615385]\n",
      " [ 34.61538462  34.61538462  46.15384615  34.61538462]]\n",
      "probability=0.95, critical=12.59, stat=24.57\n",
      "Dependent (reject H0)\n",
      "significance=0.05, p=0.00\n",
      "Dependent (reject H0)\n"
     ]
    }
   ],
   "source": [
    "# Adapted from: https://machinelearningmastery.com/chi-squared-test-for-machine-learning/\n",
    "\n",
    "# Import modules.\n",
    "from scipy.stats import chi2_contingency\n",
    "from scipy.stats import chi2\n",
    "\n",
    "# Define and print our contingency table.\n",
    "table = [ [90, 60, 104, 95],\n",
    "          [30, 50, 51, 20],\n",
    "          [30, 40, 45, 35]]\n",
    "print(table)\n",
    "\n",
    "# The function takes an array as input representing the contingency table for the two categorical variables. \n",
    "# It returns the calculated statistic and p-value for interpretation \n",
    "# as well as the calculated degrees of freedom and table of expected frequencies.\n",
    "stat, p, dof, expected = chi2_contingency(table)\n",
    "print('dof=%d' % dof)\n",
    "print(expected)\n",
    "\n",
    "# Interpret test-statistic.\n",
    "prob = 0.95\n",
    "critical = chi2.ppf(prob, dof)\n",
    "# Print values formatted to two decimal places.\n",
    "print('probability=%.2f, critical=%.2f, stat=%.2f' % (prob, critical, stat))\n",
    "if abs(stat) >= critical:\n",
    "    print('Dependent (reject H0)')\n",
    "else:\n",
    "    print('Independent (fail to reject H0)')\n",
    "    \n",
    "# Interpret p-value\n",
    "alpha = 1.0 - prob\n",
    "# Print values formatted to two decimal places.\n",
    "print('significance=%.2f, p=%.2f' % (alpha, p))\n",
    "if p <= alpha:\n",
    "    print('Dependent (reject H0)')\n",
    "else:\n",
    "    print('Independent (fail to reject H0)')"
   ]
  },
  {
   "cell_type": "code",
   "execution_count": 11,
   "metadata": {},
   "outputs": [
    {
     "name": "stdout",
     "output_type": "stream",
     "text": [
      "24.6\n"
     ]
    }
   ],
   "source": [
    "# Print stat value formatted to 1 decimal place.\n",
    "print(\"{:.1f}\".format(stat))"
   ]
  },
  {
   "cell_type": "code",
   "execution_count": 12,
   "metadata": {},
   "outputs": [
    {
     "name": "stdout",
     "output_type": "stream",
     "text": [
      "0.0004098425861096696\n"
     ]
    }
   ],
   "source": [
    "# Print p value.\n",
    "print(p)"
   ]
  },
  {
   "cell_type": "markdown",
   "metadata": {},
   "source": [
    "We verify that the Chi-squared value is approximately 24.6. We also calculated the associated p value, which is approximately 0.00041.\n",
    "\n",
    "Based on our calculations, chi-square test statistic(24,6) is greater than the critical value (12,6), the null hypothesis can be rejected. The interpretation of the p-value makes the same finding, the p-value (0.00041) is less than a significance (0.05), which means that the groups are not similar and the variables are dependent (rejecting the null hypothesis). That means, that each person's neighborhood of residence is dependent of the person's occupational classification."
   ]
  },
  {
   "cell_type": "markdown",
   "metadata": {},
   "source": [
    "***\n",
    "### Task 3: The standard deviation\n",
    "***\n",
    "\n",
    "#### INSTRUCTIONS\n",
    "***\n",
    "\n",
    "The standard deviation of an array of numbers $x$ is calculated using **numpy** as \n",
    "\n",
    "$$ np.sqrt(np.sum((x - np.mean(x))**2)/len(x))$$ \n",
    "\n",
    "However, Microsoft Excel has two different versions of the standard deviation calculation, **STDEV.P** and **STDEV.S**. The **STDEV.P** function performs the above calculation but in the **STDEV.S** calculation the division is by $len(x)-1$ rather than $len(x)$. Research these Excel functions, writing a note in a Markdown cell about the difference between them. Then use **numpy** to perform a simulation demonstrating that the **STDEV.S** calculation is a better estimate for the standard deviation of a population when performed on a sample. Note that part of this task is to figure out the terminology in the previous sentence."
   ]
  },
  {
   "cell_type": "markdown",
   "metadata": {},
   "source": [
    "***\n",
    "#### RESEARCH\n",
    "***\n",
    "\n",
    "Comparison of STDEV.P and STDEV.S. based on the official Office support webpages.[11][12]\n",
    "\n",
    "| STDEV.P | STDEV.S |\n",
    "|:-|:-|\n",
    "| **SIMILARITIES** |\n",
    "| The standard deviation is a measure of how widely values are dispersed from the average value (the mean). |\n",
    "| For large sample sizes, STDEV.S and STDEV.P return approximately equal values. |\n",
    "| Arguments can either be numbers or names, arrays, or references that contain numbers. |\n",
    "| Logical values, and text representations of numbers that you type directly into the list of arguments are counted. |\n",
    "| If an argument is an array or reference, only numbers in that array or reference are counted. Empty cells, logical values, text, or error values in the array or reference are ignored. |\n",
    "| Arguments that are error values or text that cannot be translated into numbers cause errors. |\n",
    "| **DIFFERENCES** |\n",
    "| Calculates standard deviation based on the entire population given as arguments (ignores logical values and text). | Estimates standard deviation based on a sample (ignores logical values and text in the sample). |\n",
    "| The standard deviation is calculated using the \"n\" method. | The standard deviation is calculated using the \"n-1\" method. |\n",
    "| If you want to include logical values and text representations of numbers in a reference as part of the calculation, use the STDEVPA function. | If you want to include logical values and text representations of numbers in a reference as part of the calculation, use the STDEVA function. |\n",
    "| Uses the following formula: $$\\sqrt{\\frac{\\sum (x-\\bar{x})^{2}}{n}}$$ where $x$ is the sample mean AVERAGE(number1, number2,...) and $n$ is the sample size. | Uses the following formula: $$\\sqrt{\\frac{\\sum (x-\\bar{x})^{2}}{(n-1)}}$$ where $x$ is the sample mean AVERAGE(number1, number2,...) and $n$ is the sample size |\n",
    "\n",
    "[11] Office Support; \"STDEV.P function\"; [Online]. Available from: https://support.microsoft.com/en-us/office/stdev-p-function-6e917c05-31a0-496f-ade7-4f4e7462f285\n",
    "\n",
    "[12] Office Support; \"STDEV.S function\"; [Online]. Available from: https://support.microsoft.com/en-us/office/stdev-s-function-7d69cf97-0c1f-4acf-be27-f3e83904cc23"
   ]
  },
  {
   "cell_type": "markdown",
   "metadata": {},
   "source": [
    "***\n",
    "#### SOLUTION\n",
    "***\n",
    "As mentioned above, STDEV.P calculates standard deviation based on the entire population given as arguments and STDEV.S estimates standard deviation based on a sample. I decided to draw samples from a a normal (Gaussian) distribution. I set the standard deviation as 0.1. I compare the results of calculations using STDEV.P and STDEV.S functions in Python."
   ]
  },
  {
   "cell_type": "code",
   "execution_count": 13,
   "metadata": {},
   "outputs": [
    {
     "data": {
      "text/plain": [
       "<Figure size 640x480 with 1 Axes>"
      ]
     },
     "metadata": {},
     "output_type": "display_data"
    }
   ],
   "source": [
    "# Adapted from: https://docs.scipy.org/doc/numpy-1.15.1/reference/generated/numpy.random.normal.html\n",
    "\n",
    "# Import modules\n",
    "import numpy as np\n",
    "import matplotlib.pyplot as plt\n",
    "\n",
    "# Mean and standard deviation.\n",
    "mu, sigma = 0, 0.1 \n",
    "# Draw 1000 random samples from the distribution (this is our population).\n",
    "p = np.random.normal(mu, sigma, 1000)\n",
    "# Draw 50 random samples from our population\n",
    "s = np.random.choice(p, 50)\n",
    "\n",
    "# Display the histogram\n",
    "count, bins, ignored = plt.hist(p, 30, density=True)\n",
    "plt.plot(bins, 1/(sigma * np.sqrt(2 * np.pi)) *\n",
    "               np.exp( - (bins - mu)**2 / (2 * sigma**2) ),\n",
    "         linewidth=2, color='r')\n",
    "plt.show()"
   ]
  },
  {
   "cell_type": "code",
   "execution_count": 14,
   "metadata": {},
   "outputs": [
    {
     "name": "stdout",
     "output_type": "stream",
     "text": [
      "len(s): 0.10210138818676882\n",
      "len(s)-1: 0.10313797707917756\n"
     ]
    }
   ],
   "source": [
    "# Estimate the standard deviation of the sample of the population using len(s).\n",
    "sample_p = np.sqrt(np.sum((s - np.mean(s))**2)/len(s))\n",
    "print('len(s):' ,sample_p)\n",
    "\n",
    "# Estimate the standard deviation of the sample of the population using len(s)-1.\n",
    "sample_s = np.sqrt(np.sum((s - np.mean(s))**2)/(len(s)-1))\n",
    "print('len(s)-1:',sample_s)"
   ]
  },
  {
   "cell_type": "markdown",
   "metadata": {},
   "source": [
    "As we can see above, the STDEV.S calculation is a better estimate for the standard deviation of a population when performed on a sample. To confirm our findings, I use numpy.std function to estimate the standard deviation of a population and standard deviationf of a sample of a population.[13]"
   ]
  },
  {
   "cell_type": "code",
   "execution_count": 15,
   "metadata": {},
   "outputs": [
    {
     "name": "stdout",
     "output_type": "stream",
     "text": [
      "population_p: 0.10327293226422146\n",
      "sample_s: 0.10313797707917756\n"
     ]
    }
   ],
   "source": [
    "# This calculates the population standard deviation. \n",
    "n1 = np.std(p)\n",
    "\n",
    "# This calculates the standard deviation of sample of population using the sample variance.\n",
    "n2 = np.std(s, ddof=1)\n",
    "\n",
    "print('population_p:', n1 )\n",
    "print('sample_s:' ,n2 )"
   ]
  },
  {
   "cell_type": "markdown",
   "metadata": {},
   "source": [
    "[13] StackOverflow; \"Is there any difference between numpy.std and excel STDEV function?\"; [Online]. Available from: https://stackoverflow.com/a/34134033"
   ]
  },
  {
   "cell_type": "markdown",
   "metadata": {},
   "source": [
    "***\n",
    "### Task 4: Make predictions\n",
    "***\n",
    "\n",
    "#### INSTRUCTIONS\n",
    "***\n",
    "\n",
    "NB – when I first posted this task, I accidentally wrote “*k*-means” where I meant to write “*k*NN” for *k* Nearest Neighbours. Because of this, I will allow either algorithm to be used and have extended the deadline by two weeks. \n",
    "\n",
    "Use **scikit-learn** to apply *k* Nearest Neighbours clustering to Fisher’s famous Iris data set. You will easily obtain a copy of the data set online. Explain in a Markdown cell how your code works and how accurate it might be, and then explain how your model could be used to make predictions of species of iris."
   ]
  },
  {
   "cell_type": "markdown",
   "metadata": {},
   "source": [
    "***\n",
    "#### RESEARCH\n",
    "***\n",
    "\n",
    "**The Iris flower dataset**\n",
    "\n",
    "The Iris flower data set or Fisher's Iris data set is a multivariate data set introduced by the British statistician and biologist Ronald Fisher (1890-1962) in his 1936 paper \"The use of multiple measurements in taxonomic problems as an example of linear discriminant analysis\". It is sometimes called Anderson's Iris data set because Edgar Anderson collected the data to quantify the morphologic variation of Iris flowers of three related species.[14]\n",
    "\n",
    "![iris_species](img/img3.png)\n",
    "\n",
    "The data set consists of 50 samples from each of three species of Iris (Iris setosa, Iris virginica and Iris versicolor). Four features were measured from each sample. The dataset contains a set of 150 records under 5 attributes:\n",
    "\n",
    "1. sepal length in cm\n",
    "2. sepal width in cm\n",
    "3. petal length in cm\n",
    "4. petal width in cm\n",
    "5. species:\n",
    "    * Iris Setosa\n",
    "    * Iris Versicolour\n",
    "    * Iris Virginica\n",
    "\n",
    "The Iris data set is widely used as a beginner's dataset for machine leaning purpose. This dataset is free and is publicly available at the UCI Machine Learning Repository."
   ]
  },
  {
   "cell_type": "markdown",
   "metadata": {},
   "source": [
    "**k-nearest neighbors algorithm**\n",
    "\n",
    "In statistics, the *k*-nearest neighbors algorithm (*k*-NN) is a non-parametric method proposed by Thomas Cover used for classification and regression. In both cases, the input consists of the *k* closest training examples in the feature space. The output depends on whether *k*-NN is used for classification or regression:\n",
    "\n",
    "* In *k*-NN classification, the output is a class membership. An object is classified by a plurality vote of its neighbors, with the object being assigned to the class most common among its *k* nearest neighbors (*k* is a positive integer, typically small). If *k* = 1, then the object is simply assigned to the class of that single nearest neighbor.\n",
    "\n",
    "* In *k*-NN regression, the output is the property value for the object. This value is the average of the values of *k* nearest neighbors.\n",
    "\n",
    "*k*-NN is a type of instance-based learning, or lazy learning, where the function is only approximated locally and all computation is deferred until function evaluation. Since this algorithm relies on distance for classification, normalizing the training data can improve its accuracy dramatically.\n",
    "\n",
    "Both for classification and regression, a useful technique can be to assign weights to the contributions of the neighbors, so that the nearer neighbors contribute more to the average than the more distant ones. For example, a common weighting scheme consists in giving each neighbor a weight of *1/d*, where *d* is the distance to the neighbor.\n",
    "\n",
    "The neighbors are taken from a set of objects for which the class (for *k*-NN classification) or the object property value (for *k*-NN regression) is known. This can be thought of as the training set for the algorithm, though no explicit training step is required.\n",
    "\n",
    "A peculiarity of the *k*-NN algorithm is that it is sensitive to the local structure of the data.[15]"
   ]
  },
  {
   "cell_type": "markdown",
   "metadata": {},
   "source": [
    "[14] Wikipedia contributors; \"Iris flower data set\"; [Online]. Available from: https://en.wikipedia.org/wiki/Iris_flower_data_set\n",
    "\n",
    "[15] Wikipedia contributors; \"*k*-nearest neighbors algorithm\"; [Online]. Available from: https://en.wikipedia.org/wiki/K-nearest_neighbors_algorithm"
   ]
  },
  {
   "cell_type": "markdown",
   "metadata": {},
   "source": [
    "***\n",
    "#### SOLUTION\n",
    "***"
   ]
  },
  {
   "cell_type": "code",
   "execution_count": 16,
   "metadata": {},
   "outputs": [
    {
     "name": "stdout",
     "output_type": "stream",
     "text": [
      "   sepal_length  sepal_width  petal_length  petal_width species\n",
      "0           5.1          3.5           1.4          0.2  Setosa\n",
      "1           4.9          3.0           1.4          0.2  Setosa\n",
      "2           4.7          3.2           1.3          0.2  Setosa\n",
      "3           4.6          3.1           1.5          0.2  Setosa\n",
      "4           5.0          3.6           1.4          0.2  Setosa\n",
      "5           5.4          3.9           1.7          0.4  Setosa\n",
      "6           4.6          3.4           1.4          0.3  Setosa\n",
      "7           5.0          3.4           1.5          0.2  Setosa\n",
      "8           4.4          2.9           1.4          0.2  Setosa\n",
      "9           4.9          3.1           1.5          0.1  Setosa\n",
      "Rows, columns: (150, 5)\n"
     ]
    }
   ],
   "source": [
    "# Load modules\n",
    "import pandas as pd\n",
    "import matplotlib.pyplot as plt\n",
    "import seaborn as sns\n",
    "import sklearn.neighbors as nei\n",
    "import sklearn.model_selection as mod\n",
    "\n",
    "# Load dataset\n",
    "file = \"iris.csv\"\n",
    "features = ['sepal_length', 'sepal_width', 'petal_length', 'petal_width', 'species']\n",
    "dataset = pd.read_csv(file, names=features)\n",
    "\n",
    "# Print first 10 lines of the dataset\n",
    "print(dataset.head(10))\n",
    "\n",
    "# Print the number of rows and columns\n",
    "print(\"Rows, columns:\", dataset.shape)"
   ]
  },
  {
   "cell_type": "code",
   "execution_count": 17,
   "metadata": {},
   "outputs": [
    {
     "data": {
      "image/png": "[encoded data removed]",
      "text/plain": [
       "<Figure size 432x288 with 4 Axes>"
      ]
     },
     "metadata": {
      "needs_background": "light"
     },
     "output_type": "display_data"
    }
   ],
   "source": [
    "# Create a histogram\n",
    "dataset.hist()\n",
    "plt.show()"
   ]
  },
  {
   "cell_type": "code",
   "execution_count": 18,
   "metadata": {},
   "outputs": [
    {
     "data": {
      "image/png": "[encoded data removed]",
      "text/plain": [
       "<Figure size 805.75x720 with 20 Axes>"
      ]
     },
     "metadata": {
      "needs_background": "light"
     },
     "output_type": "display_data"
    }
   ],
   "source": [
    "# Create a pairplot\n",
    "sns.pairplot(dataset, hue=\"species\")\n",
    "plt.show()"
   ]
  },
  {
   "cell_type": "code",
   "execution_count": 19,
   "metadata": {
    "scrolled": true
   },
   "outputs": [
    {
     "data": {
      "text/plain": [
       "KNeighborsClassifier(algorithm='auto', leaf_size=30, metric='minkowski',\n",
       "                     metric_params=None, n_jobs=None, n_neighbors=5, p=2,\n",
       "                     weights='uniform')"
      ]
     },
     "execution_count": 19,
     "metadata": {},
     "output_type": "execute_result"
    }
   ],
   "source": [
    "# The inputs variable contains the first four columns of the dataset.\n",
    "# The outputs variable contains the last column of the dataset.\n",
    "inputs = dataset[['sepal_length', 'sepal_width', 'petal_length', 'petal_width']]\n",
    "outputs = dataset['species']\n",
    "\n",
    "# Set the value of the classifier.\n",
    "knn = nei.KNeighborsClassifier(n_neighbors=5)\n",
    "\n",
    "# Train the KNN algorithm.\n",
    "knn.fit(inputs, outputs)"
   ]
  },
  {
   "cell_type": "code",
   "execution_count": 20,
   "metadata": {},
   "outputs": [
    {
     "data": {
      "text/plain": [
       "sepal_length          6.3\n",
       "sepal_width           2.8\n",
       "petal_length          5.1\n",
       "petal_width           1.5\n",
       "species         Virginica\n",
       "Name: 133, dtype: object"
      ]
     },
     "execution_count": 20,
     "metadata": {},
     "output_type": "execute_result"
    }
   ],
   "source": [
    "# Show the attributes for location 133 in the dataset.\n",
    "dataset.loc[133]"
   ]
  },
  {
   "cell_type": "code",
   "execution_count": 21,
   "metadata": {},
   "outputs": [
    {
     "data": {
      "text/plain": [
       "array(['Virginica'], dtype=object)"
      ]
     },
     "execution_count": 21,
     "metadata": {},
     "output_type": "execute_result"
    }
   ],
   "source": [
    "# Predict the species (use the data from previous cell).\n",
    "knn.predict([[6.3, 2.8, 5.1, 1.5]])"
   ]
  },
  {
   "cell_type": "code",
   "execution_count": 22,
   "metadata": {},
   "outputs": [
    {
     "data": {
      "text/plain": [
       "145"
      ]
     },
     "execution_count": 22,
     "metadata": {},
     "output_type": "execute_result"
    }
   ],
   "source": [
    "# Evaluate\n",
    "(knn.predict(inputs) == outputs).sum()"
   ]
  },
  {
   "cell_type": "code",
   "execution_count": 23,
   "metadata": {},
   "outputs": [],
   "source": [
    "# Splitting the data into train and test.\n",
    "# Test_size determines the percentage of test data\n",
    "# Train= 85% and Test= 15% data is randomly split\n",
    "inputs_train, inputs_test, outputs_train, outputs_test = mod.train_test_split(inputs, outputs, test_size=0.15)"
   ]
  },
  {
   "cell_type": "code",
   "execution_count": 24,
   "metadata": {},
   "outputs": [
    {
     "data": {
      "text/plain": [
       "KNeighborsClassifier(algorithm='auto', leaf_size=30, metric='minkowski',\n",
       "                     metric_params=None, n_jobs=None, n_neighbors=5, p=2,\n",
       "                     weights='uniform')"
      ]
     },
     "execution_count": 24,
     "metadata": {},
     "output_type": "execute_result"
    }
   ],
   "source": [
    "knn = nei.KNeighborsClassifier(n_neighbors=5)\n",
    "knn.fit(inputs_train, outputs_train)"
   ]
  },
  {
   "cell_type": "code",
   "execution_count": 25,
   "metadata": {},
   "outputs": [
    {
     "data": {
      "text/plain": [
       "23"
      ]
     },
     "execution_count": 25,
     "metadata": {},
     "output_type": "execute_result"
    }
   ],
   "source": [
    "(knn.predict(inputs_test) == outputs_test).sum()"
   ]
  },
  {
   "cell_type": "code",
   "execution_count": 26,
   "metadata": {},
   "outputs": [
    {
     "data": {
      "text/plain": [
       "sepal_length       5.4\n",
       "sepal_width        3.9\n",
       "petal_length       1.7\n",
       "petal_width        0.4\n",
       "species         Setosa\n",
       "Name: 5, dtype: object"
      ]
     },
     "execution_count": 26,
     "metadata": {},
     "output_type": "execute_result"
    }
   ],
   "source": [
    "dataset.loc[5]"
   ]
  },
  {
   "cell_type": "code",
   "execution_count": 27,
   "metadata": {},
   "outputs": [
    {
     "data": {
      "text/plain": [
       "array(['Setosa'], dtype=object)"
      ]
     },
     "execution_count": 27,
     "metadata": {},
     "output_type": "execute_result"
    }
   ],
   "source": [
    "# Use attributes \n",
    "knn.predict([[5.4, 3.9, 1.7, 0.4]])"
   ]
  },
  {
   "cell_type": "code",
   "execution_count": null,
   "metadata": {},
   "outputs": [],
   "source": []
  }
 ],
 "metadata": {
  "kernelspec": {
   "display_name": "Python 3",
   "language": "python",
   "name": "python3"
  },
  "language_info": {
   "codemirror_mode": {
    "name": "ipython",
    "version": 3
   },
   "file_extension": ".py",
   "mimetype": "text/x-python",
   "name": "python",
   "nbconvert_exporter": "python",
   "pygments_lexer": "ipython3",
   "version": "3.7.4"
  }
 },
 "nbformat": 4,
 "nbformat_minor": 2
}
